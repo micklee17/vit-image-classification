{
  "metadata": {
    "kernelspec": {
      "language": "python",
      "display_name": "Python 3",
      "name": "python3"
    },
    "language_info": {
      "name": "python",
      "version": "3.10.12",
      "mimetype": "text/x-python",
      "codemirror_mode": {
        "name": "ipython",
        "version": 3
      },
      "pygments_lexer": "ipython3",
      "nbconvert_exporter": "python",
      "file_extension": ".py"
    },
    "kaggle": {
      "accelerator": "gpu",
      "dataSources": [
        {
          "sourceId": 208033,
          "sourceType": "modelInstanceVersion",
          "isSourceIdPinned": true,
          "modelInstanceId": 149492,
          "modelId": 172002
        }
      ],
      "dockerImageVersionId": 30823,
      "isInternetEnabled": true,
      "language": "python",
      "sourceType": "notebook",
      "isGpuEnabled": true
    },
    "colab": {
      "name": "ViT Quickstart",
      "provenance": []
    }
  },
  "nbformat_minor": 0,
  "nbformat": 4,
  "cells": [
    {
      "source": [
        "# IMPORTANT: RUN THIS CELL IN ORDER TO IMPORT YOUR KAGGLE DATA SOURCES,\n",
        "# THEN FEEL FREE TO DELETE THIS CELL.\n",
        "# NOTE: THIS NOTEBOOK ENVIRONMENT DIFFERS FROM KAGGLE'S PYTHON\n",
        "# ENVIRONMENT SO THERE MAY BE MISSING LIBRARIES USED BY YOUR\n",
        "# NOTEBOOK.\n",
        "import kagglehub\n",
        "keras_vit_keras_vit_base_patch16_224_imagenet_2_path = kagglehub.model_download('keras/vit/Keras/vit_base_patch16_224_imagenet/2')\n",
        "\n",
        "print('Data source import complete.')\n"
      ],
      "metadata": {
        "id": "Gf3FSNIT5OAU"
      },
      "cell_type": "code",
      "outputs": [],
      "execution_count": null
    },
    {
      "cell_type": "markdown",
      "source": [
        "# Vision Transformer (ViT) Quickstart with Keras-Hub"
      ],
      "metadata": {
        "id": "W2JTkd1F5OAX"
      }
    },
    {
      "cell_type": "markdown",
      "source": [
        "## Install dependencies"
      ],
      "metadata": {
        "id": "Av1BZLMu5OAY"
      }
    },
    {
      "cell_type": "code",
      "source": [
        "!pip install -U -q keras"
      ],
      "metadata": {
        "_uuid": "8f2839f25d086af736a60e9eeb907d3b93b6e0e5",
        "_cell_guid": "b1076dfc-b9ad-4769-8c92-a6c4dae69d19",
        "trusted": true,
        "execution": {
          "iopub.status.busy": "2025-01-06T21:23:38.173193Z",
          "iopub.execute_input": "2025-01-06T21:23:38.173469Z",
          "iopub.status.idle": "2025-01-06T21:23:45.025011Z",
          "shell.execute_reply.started": "2025-01-06T21:23:38.173441Z",
          "shell.execute_reply": "2025-01-06T21:23:45.024167Z"
        },
        "id": "3P7pelrl5OAY"
      },
      "outputs": [],
      "execution_count": null
    },
    {
      "cell_type": "code",
      "source": [
        "! pip install -U -q git+https://github.com/keras-team/keras-hub.git"
      ],
      "metadata": {
        "trusted": true,
        "execution": {
          "iopub.status.busy": "2025-01-06T21:23:45.025895Z",
          "iopub.execute_input": "2025-01-06T21:23:45.026129Z",
          "iopub.status.idle": "2025-01-06T21:23:56.966058Z",
          "shell.execute_reply.started": "2025-01-06T21:23:45.02611Z",
          "shell.execute_reply": "2025-01-06T21:23:56.965185Z"
        },
        "id": "DXFaaOZw5OAZ"
      },
      "outputs": [],
      "execution_count": null
    },
    {
      "cell_type": "markdown",
      "source": [
        "## Set a backend"
      ],
      "metadata": {
        "id": "dz_b4NI_5OAZ"
      }
    },
    {
      "cell_type": "code",
      "source": [
        "import os\n",
        "\n",
        "os.environ[\"KERAS_BACKEND\"] = \"jax\"  # @param [\"tensorflow\", \"jax\", \"torch\"]"
      ],
      "metadata": {
        "trusted": true,
        "execution": {
          "iopub.status.busy": "2025-01-06T21:23:56.966974Z",
          "iopub.execute_input": "2025-01-06T21:23:56.967342Z",
          "iopub.status.idle": "2025-01-06T21:23:56.971294Z",
          "shell.execute_reply.started": "2025-01-06T21:23:56.967312Z",
          "shell.execute_reply": "2025-01-06T21:23:56.970421Z"
        },
        "id": "7hikC4Sp5OAZ"
      },
      "outputs": [],
      "execution_count": null
    },
    {
      "cell_type": "code",
      "source": [
        "import matplotlib.pyplot as plt\n",
        "import tensorflow as tf\n",
        "import tensorflow_datasets as tfds\n",
        "\n",
        "import keras\n",
        "import keras_hub\n",
        "\n",
        "from keras_hub.layers import ViTImageConverter\n",
        "from keras_hub.models import ViTImageClassifierPreprocessor"
      ],
      "metadata": {
        "trusted": true,
        "execution": {
          "iopub.status.busy": "2025-01-06T21:23:56.973643Z",
          "iopub.execute_input": "2025-01-06T21:23:56.973949Z",
          "iopub.status.idle": "2025-01-06T21:24:05.826822Z",
          "shell.execute_reply.started": "2025-01-06T21:23:56.973921Z",
          "shell.execute_reply": "2025-01-06T21:24:05.825899Z"
        },
        "id": "iS6UUZpw5OAa"
      },
      "outputs": [],
      "execution_count": null
    },
    {
      "cell_type": "code",
      "source": [
        "img_shape = (224, 224, 3)\n",
        "batch_size = 16"
      ],
      "metadata": {
        "trusted": true,
        "execution": {
          "iopub.status.busy": "2025-01-06T21:24:05.828099Z",
          "iopub.execute_input": "2025-01-06T21:24:05.828554Z",
          "iopub.status.idle": "2025-01-06T21:24:05.832223Z",
          "shell.execute_reply.started": "2025-01-06T21:24:05.828531Z",
          "shell.execute_reply": "2025-01-06T21:24:05.831238Z"
        },
        "id": "6NaXMnFC5OAa"
      },
      "outputs": [],
      "execution_count": null
    },
    {
      "cell_type": "markdown",
      "source": [
        "## Load Cats Vs Dogs training data"
      ],
      "metadata": {
        "id": "HwHAo5vT5OAa"
      }
    },
    {
      "cell_type": "code",
      "source": [
        "train_data, valid_data, test_data = tfds.load(\n",
        "    \"cats_vs_dogs\",\n",
        "    split=[\"train[:70%]\", \"train[70%:90%]\", \"train[90%:]\"],\n",
        "    with_info=False,\n",
        "    download=True,\n",
        ")\n",
        "\n",
        "resize = keras.layers.Resizing(*img_shape[:-1])"
      ],
      "metadata": {
        "trusted": true,
        "execution": {
          "iopub.status.busy": "2025-01-06T21:24:05.833309Z",
          "iopub.execute_input": "2025-01-06T21:24:05.833626Z",
          "iopub.status.idle": "2025-01-06T21:25:16.07954Z",
          "shell.execute_reply.started": "2025-01-06T21:24:05.833596Z",
          "shell.execute_reply": "2025-01-06T21:25:16.078751Z"
        },
        "id": "SvXRXgGv5OAa"
      },
      "outputs": [],
      "execution_count": null
    },
    {
      "cell_type": "code",
      "source": [
        "train_data = train_data.map(\n",
        "    lambda x: (x['image'], x['label']),\n",
        "    num_parallel_calls=tf.data.AUTOTUNE\n",
        ")\n",
        "train_data = train_data.map(\n",
        "    lambda x, y: (resize(x), y),\n",
        "    num_parallel_calls=tf.data.AUTOTUNE\n",
        ")\n",
        "train_data = train_data.batch(batch_size)"
      ],
      "metadata": {
        "trusted": true,
        "execution": {
          "iopub.status.busy": "2025-01-06T21:25:16.080343Z",
          "iopub.execute_input": "2025-01-06T21:25:16.080594Z",
          "iopub.status.idle": "2025-01-06T21:25:16.153644Z",
          "shell.execute_reply.started": "2025-01-06T21:25:16.080568Z",
          "shell.execute_reply": "2025-01-06T21:25:16.15288Z"
        },
        "id": "KcQBWlV75OAb"
      },
      "outputs": [],
      "execution_count": null
    },
    {
      "cell_type": "code",
      "source": [
        "valid_data = valid_data.map(\n",
        "    lambda x: (x['image'], x['label']),\n",
        "    num_parallel_calls=tf.data.AUTOTUNE\n",
        ")\n",
        "valid_data = valid_data.map(\n",
        "    lambda x, y: (resize(x), y),\n",
        "    num_parallel_calls=tf.data.AUTOTUNE\n",
        ")\n",
        "valid_data = valid_data.batch(batch_size)"
      ],
      "metadata": {
        "trusted": true,
        "execution": {
          "iopub.status.busy": "2025-01-06T21:25:16.154567Z",
          "iopub.execute_input": "2025-01-06T21:25:16.154798Z",
          "iopub.status.idle": "2025-01-06T21:25:16.454225Z",
          "shell.execute_reply.started": "2025-01-06T21:25:16.154779Z",
          "shell.execute_reply": "2025-01-06T21:25:16.453518Z"
        },
        "id": "qDuvDLPP5OAb"
      },
      "outputs": [],
      "execution_count": null
    },
    {
      "cell_type": "code",
      "source": [
        "test_data = test_data.map(\n",
        "    lambda x: (x['image'], x['label']),\n",
        "    num_parallel_calls=tf.data.AUTOTUNE\n",
        ")\n",
        "test_data = test_data.map(\n",
        "    lambda x, y: (resize(x), y),\n",
        "    num_parallel_calls=tf.data.AUTOTUNE\n",
        ")\n",
        "test_data = test_data.batch(batch_size)"
      ],
      "metadata": {
        "trusted": true,
        "execution": {
          "iopub.status.busy": "2025-01-06T21:25:16.455095Z",
          "iopub.execute_input": "2025-01-06T21:25:16.455381Z",
          "iopub.status.idle": "2025-01-06T21:25:16.49009Z",
          "shell.execute_reply.started": "2025-01-06T21:25:16.45535Z",
          "shell.execute_reply": "2025-01-06T21:25:16.489355Z"
        },
        "id": "xh3_xkLr5OAb"
      },
      "outputs": [],
      "execution_count": null
    },
    {
      "cell_type": "markdown",
      "source": [
        "## Instantiate a model"
      ],
      "metadata": {
        "id": "dvGFx4qS5OAc"
      }
    },
    {
      "cell_type": "code",
      "source": [
        "backbone = keras_hub.models.Backbone.from_preset(\n",
        "    \"vit_base_patch16_224_imagenet\"\n",
        ")\n",
        "\n",
        "preprocessor = keras_hub.models.ViTImageClassifierPreprocessor.from_preset(\n",
        "    \"vit_base_patch16_224_imagenet\"\n",
        ")\n",
        "\n",
        "vit = keras_hub.models.ViTImageClassifier(\n",
        "    backbone=backbone,\n",
        "    num_classes=2,\n",
        "    preprocessor=preprocessor,\n",
        ")"
      ],
      "metadata": {
        "trusted": true,
        "execution": {
          "iopub.status.busy": "2025-01-06T21:25:16.490955Z",
          "iopub.execute_input": "2025-01-06T21:25:16.49119Z",
          "iopub.status.idle": "2025-01-06T21:25:26.531362Z",
          "shell.execute_reply.started": "2025-01-06T21:25:16.491171Z",
          "shell.execute_reply": "2025-01-06T21:25:26.530684Z"
        },
        "id": "Ckk1qMYz5OAc"
      },
      "outputs": [],
      "execution_count": null
    },
    {
      "cell_type": "code",
      "source": [
        "vit.summary()"
      ],
      "metadata": {
        "trusted": true,
        "execution": {
          "iopub.status.busy": "2025-01-06T21:25:26.532193Z",
          "iopub.execute_input": "2025-01-06T21:25:26.532487Z",
          "iopub.status.idle": "2025-01-06T21:25:26.555385Z",
          "shell.execute_reply.started": "2025-01-06T21:25:26.532457Z",
          "shell.execute_reply": "2025-01-06T21:25:26.554698Z"
        },
        "id": "abt2ykBb5OAc"
      },
      "outputs": [],
      "execution_count": null
    },
    {
      "cell_type": "markdown",
      "source": [
        "## Fine-tune the model"
      ],
      "metadata": {
        "id": "q5xJSy0C5OAc"
      }
    },
    {
      "cell_type": "code",
      "source": [
        "history = vit.fit(\n",
        "    train_data,\n",
        "    epochs=1,\n",
        "    validation_data=valid_data\n",
        ")"
      ],
      "metadata": {
        "trusted": true,
        "execution": {
          "iopub.status.busy": "2025-01-06T21:25:26.556325Z",
          "iopub.execute_input": "2025-01-06T21:25:26.556622Z",
          "iopub.status.idle": "2025-01-06T21:30:59.884701Z",
          "shell.execute_reply.started": "2025-01-06T21:25:26.556591Z",
          "shell.execute_reply": "2025-01-06T21:30:59.883673Z"
        },
        "id": "46LuVqRO5OAc"
      },
      "outputs": [],
      "execution_count": null
    },
    {
      "cell_type": "code",
      "source": [
        "images, y_true = next(iter(test_data))\n",
        "y_pred = vit.predict(images)"
      ],
      "metadata": {
        "trusted": true,
        "execution": {
          "iopub.status.busy": "2025-01-06T21:30:59.887153Z",
          "iopub.execute_input": "2025-01-06T21:30:59.887449Z",
          "iopub.status.idle": "2025-01-06T21:31:01.681688Z",
          "shell.execute_reply.started": "2025-01-06T21:30:59.887417Z",
          "shell.execute_reply": "2025-01-06T21:31:01.680716Z"
        },
        "id": "Hw3HzYYe5OAc"
      },
      "outputs": [],
      "execution_count": null
    },
    {
      "cell_type": "code",
      "source": [
        "label_map = {\n",
        "    0: \"cat\",\n",
        "    1: \"dog\"\n",
        "}"
      ],
      "metadata": {
        "trusted": true,
        "execution": {
          "iopub.status.busy": "2025-01-06T21:31:01.682823Z",
          "iopub.execute_input": "2025-01-06T21:31:01.683129Z",
          "iopub.status.idle": "2025-01-06T21:31:01.687054Z",
          "shell.execute_reply.started": "2025-01-06T21:31:01.683106Z",
          "shell.execute_reply": "2025-01-06T21:31:01.686199Z"
        },
        "id": "zUNmUkhJ5OAc"
      },
      "outputs": [],
      "execution_count": null
    },
    {
      "cell_type": "markdown",
      "source": [
        "## Run inference on test data"
      ],
      "metadata": {
        "id": "KA4tCiqo5OAc"
      }
    },
    {
      "cell_type": "code",
      "source": [
        "plt.figure(figsize=(10, 10))\n",
        "for i in range(9):\n",
        "    ax = plt.subplot(3, 3, i + 1)\n",
        "    plt.imshow(images[i].numpy().astype(\"uint8\"))\n",
        "    plt.title(f\"True: {label_map[int(y_true[i])]}, Pred: {label_map[int(y_pred[i].argmax())]}\")\n",
        "    plt.axis(\"off\")"
      ],
      "metadata": {
        "trusted": true,
        "execution": {
          "iopub.status.busy": "2025-01-06T21:31:45.185907Z",
          "iopub.execute_input": "2025-01-06T21:31:45.186211Z",
          "iopub.status.idle": "2025-01-06T21:31:46.09189Z",
          "shell.execute_reply.started": "2025-01-06T21:31:45.186187Z",
          "shell.execute_reply": "2025-01-06T21:31:46.090903Z"
        },
        "id": "EQsL79J_5OAc"
      },
      "outputs": [],
      "execution_count": null
    }
  ]
}